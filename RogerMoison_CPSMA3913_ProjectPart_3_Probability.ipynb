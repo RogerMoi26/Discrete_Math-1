{
  "nbformat": 4,
  "nbformat_minor": 0,
  "metadata": {
    "colab": {
      "provenance": [],
      "toc_visible": true,
      "include_colab_link": true
    },
    "kernelspec": {
      "name": "python3",
      "display_name": "Python 3"
    }
  },
  "cells": [
    {
      "cell_type": "markdown",
      "metadata": {
        "id": "view-in-github",
        "colab_type": "text"
      },
      "source": [
        "<a href=\"https://colab.research.google.com/github/RogerMoi26/Discrete_Math-1/blob/master/RogerMoison_CPSMA3913_ProjectPart_3_Probability.ipynb\" target=\"_parent\"><img src=\"https://colab.research.google.com/assets/colab-badge.svg\" alt=\"Open In Colab\"/></a>"
      ]
    },
    {
      "cell_type": "markdown",
      "metadata": {
        "id": "YCJaepmmfKrS"
      },
      "source": [
        "# Project Part # 3: CPSMA 3133 [Dr. Jacob's](https://github.com/nurfnick) Discrete Mathematics \n",
        "\n",
        "## Can I get my daughter to sleep\n",
        "\n",
        "### Roger Moison and 282541\n",
        "\n",
        "\n"
      ]
    },
    {
      "cell_type": "markdown",
      "metadata": {
        "id": "Xs_Pvtua1Nnt"
      },
      "source": [
        "## 1 (a) Probability"
      ]
    },
    {
      "cell_type": "markdown",
      "metadata": {
        "id": "2z6U1aB_fQDM"
      },
      "source": [
        "Okay Well everyone wellcome to my week 3 project lets see what we can come up with.The prompt wants us to make 3 or more simple events and assign them a probability so lets go ahead and do that. For my three events it will be on if I can get my 12 month old child down for a nap. "
      ]
    },
    {
      "cell_type": "markdown",
      "source": [
        "The probability of my daughter going straight to sleep lets name that, *S*, ,somewhat asleep,*D*, not sleeping at all, *N*,. Lastly what are my chances of sleeping threw the  Night M .Kids are fun they never want to sleep.... lol its fine we can eventually get her to sleep but its difficult."
      ],
      "metadata": {
        "id": "iCwV6pOyoHQv"
      }
    },
    {
      "cell_type": "code",
      "metadata": {
        "id": "rU_BgC_kfH7g",
        "outputId": "7c240cc5-306a-46fd-e6a9-05601256c172",
        "colab": {
          "base_uri": "https://localhost:8080/"
        }
      },
      "source": [
        "p = [.1,.4,.2,.3]\n",
        "\n",
        "sum(p)\n",
        "\n",
        "#All P are between 0 and 1 and the sum will always be 1."
      ],
      "execution_count": 123,
      "outputs": [
        {
          "output_type": "execute_result",
          "data": {
            "text/plain": [
              "1.0"
            ]
          },
          "metadata": {},
          "execution_count": 123
        }
      ]
    },
    {
      "cell_type": "markdown",
      "source": [
        "#(b) Compound event "
      ],
      "metadata": {
        "id": "K6IX6az5sCx9"
      }
    },
    {
      "cell_type": "code",
      "source": [
        "B = 0\n",
        "for i in [0,1]:\n",
        "  B = B + p[i]\n",
        "\n",
        "B"
      ],
      "metadata": {
        "colab": {
          "base_uri": "https://localhost:8080/"
        },
        "id": "UXABPNCysgZG",
        "outputId": "86a58a76-a0bc-4083-9292-3ef141e02237"
      },
      "execution_count": 124,
      "outputs": [
        {
          "output_type": "execute_result",
          "data": {
            "text/plain": [
              "0.5"
            ]
          },
          "metadata": {},
          "execution_count": 124
        }
      ]
    },
    {
      "cell_type": "markdown",
      "metadata": {
        "id": "_7RoPTU_hXG1"
      },
      "source": [
        "## (c) Probability of a Union and intersection"
      ]
    },
    {
      "cell_type": "markdown",
      "source": [
        "$$\n",
        "P(S u M) = P(S) + P(M) - P(S)*P(M)\n",
        "$$\n",
        "\n"
      ],
      "metadata": {
        "id": "Zz04_z8mKVr6"
      }
    },
    {
      "cell_type": "markdown",
      "source": [
        "Union"
      ],
      "metadata": {
        "id": "avsS4V_HLXQj"
      }
    },
    {
      "cell_type": "code",
      "source": [
        ".1 + .3 - .1*.3"
      ],
      "metadata": {
        "colab": {
          "base_uri": "https://localhost:8080/"
        },
        "id": "dQS2Yo1m9tmK",
        "outputId": "34e65e8b-d735-45ed-b34e-55aa59f7c417"
      },
      "execution_count": 125,
      "outputs": [
        {
          "output_type": "execute_result",
          "data": {
            "text/plain": [
              "0.37"
            ]
          },
          "metadata": {},
          "execution_count": 125
        }
      ]
    },
    {
      "cell_type": "markdown",
      "source": [
        "$$\n",
        "P(S\\cap M) = P(S)*P(M)\n",
        "$$"
      ],
      "metadata": {
        "id": "jHkdO9diLTEA"
      }
    },
    {
      "cell_type": "markdown",
      "source": [
        "Intersection"
      ],
      "metadata": {
        "id": "8b3-W_x1LZkr"
      }
    },
    {
      "cell_type": "code",
      "source": [
        ".1*.3"
      ],
      "metadata": {
        "colab": {
          "base_uri": "https://localhost:8080/"
        },
        "id": "0iCpvRlJLT3E",
        "outputId": "18fa8541-1c66-4de0-e6cb-c31144ebea50"
      },
      "execution_count": 118,
      "outputs": [
        {
          "output_type": "execute_result",
          "data": {
            "text/plain": [
              "0.03"
            ]
          },
          "metadata": {},
          "execution_count": 118
        }
      ]
    },
    {
      "cell_type": "markdown",
      "source": [
        "# (d)Compute both conditional probability"
      ],
      "metadata": {
        "id": "A9z6zgZJ3eWu"
      }
    },
    {
      "cell_type": "markdown",
      "source": [
        "Compute both the conditional P"
      ],
      "metadata": {
        "id": "aPC2lNYjMJuF"
      }
    },
    {
      "cell_type": "code",
      "source": [
        " .1*.3/.3\n",
        "\n"
      ],
      "metadata": {
        "colab": {
          "base_uri": "https://localhost:8080/"
        },
        "id": "epT9ukDS_-9z",
        "outputId": "6baf5ade-d5f4-4f88-9e60-7fe9e1c01ec9"
      },
      "execution_count": 127,
      "outputs": [
        {
          "output_type": "execute_result",
          "data": {
            "text/plain": [
              "0.1"
            ]
          },
          "metadata": {},
          "execution_count": 127
        }
      ]
    },
    {
      "cell_type": "code",
      "source": [
        ".1/B\n",
        "\n"
      ],
      "metadata": {
        "colab": {
          "base_uri": "https://localhost:8080/"
        },
        "id": "MkniLYMp1mr2",
        "outputId": "a4c6d814-e462-4a59-85a7-091d344024b2"
      },
      "execution_count": 128,
      "outputs": [
        {
          "output_type": "execute_result",
          "data": {
            "text/plain": [
              "0.2"
            ]
          },
          "metadata": {},
          "execution_count": 128
        }
      ]
    },
    {
      "cell_type": "markdown",
      "source": [
        "Lets Apply Bayes' to see if this is working "
      ],
      "metadata": {
        "id": "QpHIuYVEOpHd"
      }
    },
    {
      "cell_type": "code",
      "source": [
        ".2 == (.1  * 1)/B"
      ],
      "metadata": {
        "colab": {
          "base_uri": "https://localhost:8080/"
        },
        "id": "x5rNX1y6Onuj",
        "outputId": "df45d205-981a-4c5d-b509-67fc779981fb"
      },
      "execution_count": 129,
      "outputs": [
        {
          "output_type": "execute_result",
          "data": {
            "text/plain": [
              "True"
            ]
          },
          "metadata": {},
          "execution_count": 129
        }
      ]
    },
    {
      "cell_type": "markdown",
      "source": [
        "BOOM! and were good. "
      ],
      "metadata": {
        "id": "22jgAUw7O5fl"
      }
    },
    {
      "cell_type": "markdown",
      "source": [
        "# (e) Complement"
      ],
      "metadata": {
        "id": "ZbTVUjq8rVdW"
      }
    },
    {
      "cell_type": "markdown",
      "source": [
        "Now its time to compute the P of the complement"
      ],
      "metadata": {
        "id": "yEV9MnC-3qO_"
      }
    },
    {
      "cell_type": "code",
      "source": [
        "1 - .1"
      ],
      "metadata": {
        "colab": {
          "base_uri": "https://localhost:8080/"
        },
        "id": "OTM38rFrPdB3",
        "outputId": "3db31ad1-f7c4-49e5-b327-34dd3bbcad00"
      },
      "execution_count": 130,
      "outputs": [
        {
          "output_type": "execute_result",
          "data": {
            "text/plain": [
              "0.9"
            ]
          },
          "metadata": {},
          "execution_count": 130
        }
      ]
    },
    {
      "cell_type": "code",
      "source": [
        "1 - .3"
      ],
      "metadata": {
        "colab": {
          "base_uri": "https://localhost:8080/"
        },
        "id": "mYI4pahQPMgv",
        "outputId": "e4110314-03ec-4fca-b641-7732f92a3b3f"
      },
      "execution_count": 131,
      "outputs": [
        {
          "output_type": "execute_result",
          "data": {
            "text/plain": [
              "0.7"
            ]
          },
          "metadata": {},
          "execution_count": 131
        }
      ]
    },
    {
      "cell_type": "markdown",
      "source": [
        "since some of my number are similar i will only do it once for each "
      ],
      "metadata": {
        "id": "feqnt1BmPh2G"
      }
    },
    {
      "cell_type": "markdown",
      "source": [
        "# (f)Simulate "
      ],
      "metadata": {
        "id": "8IieUrdPuL6s"
      }
    },
    {
      "cell_type": "markdown",
      "source": [
        "Here I prepare to simulate my sample space 10 times randomly lets see how this will go."
      ],
      "metadata": {
        "id": "8FtT8AAwuWYK"
      }
    },
    {
      "cell_type": "code",
      "source": [
        "p5 = [5*i for i in p]\n",
        "p = [.1,.4,.2,.3]"
      ],
      "metadata": {
        "id": "kI8RwLq6uWwo"
      },
      "execution_count": 132,
      "outputs": []
    },
    {
      "cell_type": "code",
      "source": [
        "p5"
      ],
      "metadata": {
        "id": "lfD9OLvbuY-q",
        "colab": {
          "base_uri": "https://localhost:8080/"
        },
        "outputId": "18555d4e-15f9-4c04-a8d4-9b91a4a47732"
      },
      "execution_count": 133,
      "outputs": [
        {
          "output_type": "execute_result",
          "data": {
            "text/plain": [
              "[0.5, 2.0, 1.0, 1.5]"
            ]
          },
          "metadata": {},
          "execution_count": 133
        }
      ]
    },
    {
      "cell_type": "code",
      "source": [
        "from random import choices\n",
        "\n",
        "choices(['S','D','N','M'],p5,k=10)"
      ],
      "metadata": {
        "id": "buW9X4WkuX9c",
        "colab": {
          "base_uri": "https://localhost:8080/"
        },
        "outputId": "06e42bb3-3cf8-410a-ebea-f7775efe43d1"
      },
      "execution_count": 134,
      "outputs": [
        {
          "output_type": "execute_result",
          "data": {
            "text/plain": [
              "['S', 'S', 'S', 'M', 'D', 'M', 'M', 'D', 'D', 'D']"
            ]
          },
          "metadata": {},
          "execution_count": 134
        }
      ]
    },
    {
      "cell_type": "markdown",
      "source": [
        "so based off this 4/10 My daughter wont sleep."
      ],
      "metadata": {
        "id": "yxOoWgmGRx6E"
      }
    },
    {
      "cell_type": "code",
      "source": [
        "choices(['S','D','N','M'],p5,k=10)"
      ],
      "metadata": {
        "id": "NJxs99cguXi_",
        "colab": {
          "base_uri": "https://localhost:8080/"
        },
        "outputId": "0a739808-b3b2-4f1a-b376-2a834975fc32"
      },
      "execution_count": 135,
      "outputs": [
        {
          "output_type": "execute_result",
          "data": {
            "text/plain": [
              "['D', 'D', 'N', 'M', 'M', 'M', 'S', 'D', 'M', 'N']"
            ]
          },
          "metadata": {},
          "execution_count": 135
        }
      ]
    },
    {
      "cell_type": "markdown",
      "source": [
        "And here I will sleep 4/10."
      ],
      "metadata": {
        "id": "r1k6VnyeR9WN"
      }
    },
    {
      "cell_type": "markdown",
      "source": [
        "Though some of these result would be nice reality is a cruel mistress and yeah it more like a 9/10 chance my daughter screams herself to sleep and wakes me and my wife up anywhere between the hours of 11pm - 2 am sometime 3 and 4 / mutiple times a night."
      ],
      "metadata": {
        "id": "RStIVkXxSFFI"
      }
    },
    {
      "cell_type": "markdown",
      "source": [
        "# 2 Findings"
      ],
      "metadata": {
        "id": "I7NESFYOrr9j"
      }
    },
    {
      "cell_type": "markdown",
      "source": [
        "# (a)"
      ],
      "metadata": {
        "id": "o5qdqhvwr-mj"
      }
    },
    {
      "cell_type": "markdown",
      "source": [
        "My finding are as seen I honestly chose the decimals randomly but made sure it added up to 1. Some of the result were expected and that all I got for this week. I feel i did a bit better than last week but I am unsure let me know what yall think."
      ],
      "metadata": {
        "id": "FgaQgpxAsDAz"
      }
    },
    {
      "cell_type": "markdown",
      "source": [
        "# (b)"
      ],
      "metadata": {
        "id": "6QtODPCZr_Hc"
      }
    },
    {
      "cell_type": "markdown",
      "source": [
        "I ran into a few issues here an there but played around with the code/ numbers to finally get it too work."
      ],
      "metadata": {
        "id": "AJqzqGAjsFP-"
      }
    },
    {
      "cell_type": "markdown",
      "source": [
        "# (c)"
      ],
      "metadata": {
        "id": "BGg-aAuFr_fS"
      }
    },
    {
      "cell_type": "markdown",
      "source": [
        "The simulation is defiinatly different than my ideal sample as if it truly reflect the probilities I deffinaly dont get a full nights rest period my daughter is up multiple times a night and during the day just down right refuses to be asleep for more than 30 min anymore than that she wakes up.\n",
        "My ideal sample would reflect that in the simulation. "
      ],
      "metadata": {
        "id": "M3yNUA8TsEy7"
      }
    }
  ]
}
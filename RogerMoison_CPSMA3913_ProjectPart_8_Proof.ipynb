{
  "nbformat": 4,
  "nbformat_minor": 0,
  "metadata": {
    "colab": {
      "provenance": [],
      "toc_visible": true,
      "include_colab_link": true
    },
    "kernelspec": {
      "name": "python3",
      "display_name": "Python 3"
    }
  },
  "cells": [
    {
      "cell_type": "markdown",
      "metadata": {
        "id": "view-in-github",
        "colab_type": "text"
      },
      "source": [
        "<a href=\"https://colab.research.google.com/github/RogerMoi26/Discrete_Math-1/blob/master/RogerMoison_CPSMA3913_ProjectPart_8_Proof.ipynb\" target=\"_parent\"><img src=\"https://colab.research.google.com/assets/colab-badge.svg\" alt=\"Open In Colab\"/></a>"
      ]
    },
    {
      "cell_type": "markdown",
      "metadata": {
        "id": "YCJaepmmfKrS"
      },
      "source": [
        "[link text](https://)# Project Part # 8: CPSMA 3133 [Dr. Jacob's](https://github.com/nurfnick) Discrete Mathematics \n",
        "\n",
        "## Proof\n",
        "## Fianal Project\n",
        "\n",
        "### Roger Moison and 282541\n",
        "\n",
        "\n"
      ]
    },
    {
      "cell_type": "markdown",
      "source": [
        "Part 2 a and b will be found through out this project."
      ],
      "metadata": {
        "id": "r6ZP4BLAUMK4"
      }
    },
    {
      "cell_type": "markdown",
      "source": [
        "# (a)Create a Linear equation then Graph\n",
        "$$y=mx+b$$ by assigning non-zero values to m and b."
      ],
      "metadata": {
        "id": "ptMx15zSTr5Y"
      }
    },
    {
      "cell_type": "markdown",
      "source": [
        "Alright last project Ill keep it simple and clean"
      ],
      "metadata": {
        "id": "1sRuudL_Upum"
      }
    },
    {
      "cell_type": "markdown",
      "source": [
        "I will have a slope***(m)*** of 6 with an intercept***(b)*** of -6: $$y=6x+(-6)$$"
      ],
      "metadata": {
        "id": "o22eTryAYr3E"
      }
    },
    {
      "cell_type": "markdown",
      "source": [
        "Now lets graph"
      ],
      "metadata": {
        "id": "rfd6lF82ZEH4"
      }
    },
    {
      "cell_type": "code",
      "source": [
        "import matplotlib.pyplot as plt\n",
        "import numpy as np\n",
        "x = np.linspace(-6,6,3)#\n",
        "y = 6*x+(-6)\n",
        "plt.plot(x,y,'-p',label = 'y = 6x+(-6)')\n",
        "plt.title('Graph of y = 6x+(-6)')\n",
        "plt.grid()\n",
        "plt.show()"
      ],
      "metadata": {
        "colab": {
          "base_uri": "https://localhost:8080/",
          "height": 281
        },
        "id": "j85HGhqEUn8d",
        "outputId": "5598ff86-d0fe-41d0-b9d9-5d4372fdd81c"
      },
      "execution_count": 1,
      "outputs": [
        {
          "output_type": "display_data",
          "data": {
            "text/plain": [
              "<Figure size 432x288 with 1 Axes>"
            ],
            "image/png": "[encoded data removed]"
          },
          "metadata": {
            "needs_background": "light"
          }
        }
      ]
    },
    {
      "cell_type": "markdown",
      "source": [
        "To me it looks great."
      ],
      "metadata": {
        "id": "087wru_ejeCp"
      }
    },
    {
      "cell_type": "markdown",
      "source": [
        "I want to think this is right as the equation in the example is different so I think this looks good to me the code runs and gives me what "
      ],
      "metadata": {
        "id": "S2yQx5utUvkx"
      }
    },
    {
      "cell_type": "markdown",
      "source": [
        "# (b) Write a proof of the statement"
      ],
      "metadata": {
        "id": "nS6EAQNcTsda"
      }
    },
    {
      "cell_type": "markdown",
      "source": [
        "Proof time and this wont be pretty/may be incorrect as it still confuses me a little when it comes to doing this equations rather than word problems why I cant say I dont know myself why thats the case. (the discussion board way easier in my opinion.)"
      ],
      "metadata": {
        "id": "8R3aGdWJUupH"
      }
    },
    {
      "cell_type": "markdown",
      "source": [
        "is it true that 0 = 6*1+(-6)?"
      ],
      "metadata": {
        "id": "FR0J1LAyZeRZ"
      }
    },
    {
      "cell_type": "code",
      "source": [
        "0 == 6*1 +(-6)"
      ],
      "metadata": {
        "colab": {
          "base_uri": "https://localhost:8080/"
        },
        "id": "ksfczTRAUsXk",
        "outputId": "44c2cb85-9843-4347-b137-e01e92071da3"
      },
      "execution_count": 2,
      "outputs": [
        {
          "output_type": "execute_result",
          "data": {
            "text/plain": [
              "True"
            ]
          },
          "metadata": {},
          "execution_count": 2
        }
      ]
    },
    {
      "cell_type": "markdown",
      "source": [
        "cool we got a true."
      ],
      "metadata": {
        "id": "4U4zSjwOUuIL"
      }
    },
    {
      "cell_type": "markdown",
      "source": [
        "I want to say that answers everthing this project asked for. I have learned a great deal from this course and my peers.So thank you for a Great 8 weeks.This has been an awesome start to my ECU journey."
      ],
      "metadata": {
        "id": "PuWlq53vwEOT"
      }
    }
  ]
}
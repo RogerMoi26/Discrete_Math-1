{
  "nbformat": 4,
  "nbformat_minor": 0,
  "metadata": {
    "colab": {
      "provenance": [],
      "include_colab_link": true
    },
    "kernelspec": {
      "name": "python3",
      "display_name": "Python 3"
    }
  },
  "cells": [
    {
      "cell_type": "markdown",
      "metadata": {
        "id": "view-in-github",
        "colab_type": "text"
      },
      "source": [
        "<a href=\"https://colab.research.google.com/github/RogerMoi26/Discrete_Math-1/blob/master/Copy_of_RogerMoison_CPSMA3913_ProjectPart_6_Numbers.ipynb\" target=\"_parent\"><img src=\"https://colab.research.google.com/assets/colab-badge.svg\" alt=\"Open In Colab\"/></a>"
      ]
    },
    {
      "cell_type": "markdown",
      "metadata": {
        "id": "YCJaepmmfKrS"
      },
      "source": [
        "# Project Part # 6: CPSMA 3133 [Dr. Jacob's](https://github.com/nurfnick) Discrete Mathematics \n",
        "\n",
        "## Numbers\n",
        "\n",
        "### Roger Moison and 282541\n",
        "\n",
        "\n"
      ]
    },
    {
      "cell_type": "markdown",
      "source": [
        "So this week definatey not as fun and engaging as the res just a whole lot of  Numbers!...get it cause the project is called numbers. Dont worry I know that was a terrible pun. Anyway moving on....\n",
        "My finding will be throughout the project."
      ],
      "metadata": {
        "id": "YkEBUT7c7arQ"
      }
    },
    {
      "cell_type": "markdown",
      "metadata": {
        "id": "Xs_Pvtua1Nnt"
      },
      "source": [
        "## (a) Converting the number into base 10. $$24036_7$$"
      ]
    },
    {
      "cell_type": "markdown",
      "source": [
        "So for this we are asked to convert $$24036_7$$\n",
        "into base ten the conversion into base ten is 6201.  \n"
      ],
      "metadata": {
        "id": "c5s0cZPcy_mZ"
      }
    },
    {
      "cell_type": "code",
      "source": [
        "print(\"Enter the number you want to convert to base 10: \")\n",
        "number = input()\n",
        "\n",
        "length = len(number)\n",
        "print(\"Enter the base of the number: \")\n",
        "base = input()\n",
        "s = 0\n",
        "for i in range(len(number)):\n",
        "    length = length - 1\n",
        "    \n",
        "    s = number[i] * (int(base) ** length) \n",
        "    s += s\n",
        "\n",
        "digits = {c: i for i, c in enumerate('0123456789abcdefghijklmnopqrstuvwxyz')}\n",
        "\n",
        "s = 0\n",
        "base = int(7)\n",
        "for i, digit in enumerate(reversed(number.lower())):\n",
        "  s += digits[digit] * (base ** i)\n",
        "  \n",
        "\n",
        "\n",
        "def parse_number(number, base):\n",
        "    return sum(digits[digit] * (base ** i)\n",
        "               for i, digit in enumerate(reversed(number.lower())))\n",
        "\n",
        "print(parse_number(number, int(base)))\n",
        "print(s)"
      ],
      "metadata": {
        "colab": {
          "base_uri": "https://localhost:8080/"
        },
        "id": "M4eF3B3l1KUO",
        "outputId": "10bc3249-f0a7-40b4-9088-14de02406b18"
      },
      "execution_count": null,
      "outputs": [
        {
          "output_type": "stream",
          "name": "stdout",
          "text": [
            "Enter the number you want to convert to base 10: \n",
            "24036\n",
            "Enter the base of the number: \n",
            "7\n",
            "6201\n",
            "6201\n"
          ]
        }
      ]
    },
    {
      "cell_type": "markdown",
      "source": [
        "So with the code I got the same answer so cool we are on the right track."
      ],
      "metadata": {
        "id": "b-Y8aM4bAE9n"
      }
    },
    {
      "cell_type": "markdown",
      "source": [
        "To be honest had no clue how to even go about making this so thankfully there was somone who had it already here is the link so yall dont mistake their good work for mine. \n",
        "Here's the link to the Stackoverflow:\n",
        "https://stackoverflow.com/questions/26929227/base-converter-in-python"
      ],
      "metadata": {
        "id": "M7fVx9Ay-oEF"
      }
    },
    {
      "cell_type": "markdown",
      "source": [
        "#(b) Convert the hexdec number \n"
      ],
      "metadata": {
        "id": "K6IX6az5sCx9"
      }
    },
    {
      "cell_type": "markdown",
      "source": [
        "For this we are asked to convert 72e3 or 0x72e3 into base ten.\n",
        "So for practices sake im going to do both so lets see what happens."
      ],
      "metadata": {
        "id": "JVLMRxpTz4vf"
      }
    },
    {
      "cell_type": "markdown",
      "source": [
        "\n",
        "**Incorrect**"
      ],
      "metadata": {
        "id": "Ee4js7zEDo69"
      }
    },
    {
      "cell_type": "code",
      "source": [
        "72e3"
      ],
      "metadata": {
        "colab": {
          "base_uri": "https://localhost:8080/"
        },
        "id": "VzQytlESCJZo",
        "outputId": "430aa301-51cd-41d8-affe-9d80fd2f9843"
      },
      "execution_count": null,
      "outputs": [
        {
          "output_type": "execute_result",
          "data": {
            "text/plain": [
              "72000.0"
            ]
          },
          "metadata": {},
          "execution_count": 15
        }
      ]
    },
    {
      "cell_type": "markdown",
      "source": [
        "**Corrct**"
      ],
      "metadata": {
        "id": "A4039DYFDtZ8"
      }
    },
    {
      "cell_type": "code",
      "source": [
        "0x72e3\n",
        "#^ (0x) we need this in the code*"
      ],
      "metadata": {
        "colab": {
          "base_uri": "https://localhost:8080/"
        },
        "id": "loFl243bz9H_",
        "outputId": "e4112219-8bc4-4ad5-d2cb-5a5040c2d316"
      },
      "execution_count": null,
      "outputs": [
        {
          "output_type": "execute_result",
          "data": {
            "text/plain": [
              "29411"
            ]
          },
          "metadata": {},
          "execution_count": 21
        }
      ]
    },
    {
      "cell_type": "markdown",
      "source": [
        "These worked because pyhton can automaticlly detect hexdecimal in the code. as long as you use the prefix 0x the code without would be incorrect.\n",
        "but I think we can do better."
      ],
      "metadata": {
        "id": "zWSwHaWaCYqy"
      }
    },
    {
      "cell_type": "code",
      "source": [
        "x = int(\"72e3\",16)"
      ],
      "metadata": {
        "id": "SaEvCFW9CINU"
      },
      "execution_count": null,
      "outputs": []
    },
    {
      "cell_type": "code",
      "source": [
        "print(int(\"0x72e3\",0))"
      ],
      "metadata": {
        "colab": {
          "base_uri": "https://localhost:8080/"
        },
        "id": "-lCI1fy_Cw7h",
        "outputId": "a39d6e4c-6145-4741-f94d-23e034b77259"
      },
      "execution_count": null,
      "outputs": [
        {
          "output_type": "stream",
          "name": "stdout",
          "text": [
            "29411\n"
          ]
        }
      ]
    },
    {
      "cell_type": "markdown",
      "metadata": {
        "id": "_7RoPTU_hXG1"
      },
      "source": [
        "## (c) Convert into Hexdecimal"
      ]
    },
    {
      "cell_type": "markdown",
      "source": [
        "Now for the opposite now we are converting to hexdecimal. Using 3735928559\n",
        "if we do this correctly it will output \"deadbeef\"."
      ],
      "metadata": {
        "id": "NxOrrnBqEHs5"
      }
    },
    {
      "cell_type": "markdown",
      "source": [
        "Luckly we have a built in way to do this so its not overly complicated."
      ],
      "metadata": {
        "id": "JNfmUc0WFJsL"
      }
    },
    {
      "cell_type": "code",
      "source": [
        "hex(3735928559)"
      ],
      "metadata": {
        "colab": {
          "base_uri": "https://localhost:8080/",
          "height": 35
        },
        "id": "O13ZMIP3EsMX",
        "outputId": "aa3dbcfb-2e7e-4288-fa2c-0cda11f877ac"
      },
      "execution_count": null,
      "outputs": [
        {
          "output_type": "execute_result",
          "data": {
            "text/plain": [
              "'0xdeadbeef'"
            ],
            "application/vnd.google.colaboratory.intrinsic+json": {
              "type": "string"
            }
          },
          "metadata": {},
          "execution_count": 22
        }
      ]
    },
    {
      "cell_type": "markdown",
      "source": [
        "and look at that we have deadbeef as the output but we can also see that the prefix is thier as well \"0x\"."
      ],
      "metadata": {
        "id": "b0qKDpowEzI4"
      }
    },
    {
      "cell_type": "markdown",
      "source": [
        "# (d) Subtraction using two's complement"
      ],
      "metadata": {
        "id": "A9z6zgZJ3eWu"
      }
    },
    {
      "cell_type": "markdown",
      "source": [
        "Okay for the last question we are asked to Use two's complement 25 - 37. hmmm looks familiar just slightly different from this week disscusion board. "
      ],
      "metadata": {
        "id": "IvEOR8r8FWKv"
      }
    },
    {
      "cell_type": "markdown",
      "source": [
        "So let first get them into binary 25 = 00011001 -37 = 11011010 but since its a negative its actually 100101."
      ],
      "metadata": {
        "id": "vi8fv7VnFsmp"
      }
    },
    {
      "cell_type": "markdown",
      "source": [
        "011001-100101=-001100|011001+011011=110100\n"
      ],
      "metadata": {
        "id": "uKfuPqGMOTCT"
      }
    },
    {
      "cell_type": "markdown",
      "source": [
        "25 - 37 = -12 that translated into binary would be 00001100 is actually 12 but since we are dealing with a neg its -12."
      ],
      "metadata": {
        "id": "jShNXAvfMR8X"
      }
    },
    {
      "cell_type": "markdown",
      "source": [
        "The code below is to check my work nothing more."
      ],
      "metadata": {
        "id": "2Sn_s1dkRX7b"
      }
    },
    {
      "cell_type": "code",
      "source": [
        "\n",
        "def addone(list7binary):\n",
        "  counter = 7\n",
        "  list7binary[counter] = str(1 + int(list7binary[counter]))\n",
        "  while list7binary[counter]=='2':\n",
        "    list7binary[counter] = '0'\n",
        "    counter -= 1\n",
        "    list7binary[counter] = str(1 + int(list7binary[counter]))\n",
        "  return list7binary\n",
        "\n",
        "addone(['0','1','1','1','1','1','1','1'])"
      ],
      "metadata": {
        "colab": {
          "base_uri": "https://localhost:8080/"
        },
        "id": "0El1y6WPNmY6",
        "outputId": "0b55606c-35e5-4750-f6d7-6acdce6de418"
      },
      "execution_count": null,
      "outputs": [
        {
          "output_type": "execute_result",
          "data": {
            "text/plain": [
              "['1', '0', '0', '0', '0', '0', '0', '0']"
            ]
          },
          "metadata": {},
          "execution_count": 42
        }
      ]
    },
    {
      "cell_type": "code",
      "source": [
        "\n",
        "def flipit(list7binary):\n",
        "  newlist = []\n",
        "  for i in list7binary:\n",
        "    if i == '0':\n",
        "      newlist.append('1')\n",
        "    else:\n",
        "      newlist.append('0')\n",
        "  return newlist\n",
        "\n",
        "flipit(['0','1','1','1','1','1','1','1'])"
      ],
      "metadata": {
        "colab": {
          "base_uri": "https://localhost:8080/"
        },
        "id": "cjJUt7kqNnlt",
        "outputId": "30199f73-a1cd-41d9-fa85-bc723a03ea7d"
      },
      "execution_count": null,
      "outputs": [
        {
          "output_type": "execute_result",
          "data": {
            "text/plain": [
              "['1', '0', '0', '0', '0', '0', '0', '0']"
            ]
          },
          "metadata": {},
          "execution_count": 43
        }
      ]
    },
    {
      "cell_type": "code",
      "source": [
        "def twoscomplement(x):\n",
        "  if not (x>-128)&(x<127):\n",
        "    return \"No Two's Complement\"\n",
        "  ans = '00000000'\n",
        "  ans = list(ans) #strings don't allow you to change them in place (immutable) but lists can be!\n",
        "  counter = 7\n",
        "  if x>=0:\n",
        "    while x != 0:\n",
        "      ans[counter] = str(x%2)\n",
        "      x = floor(x/2)\n",
        "      counter -= 1\n",
        "  if x<0:\n",
        "    x = abs(x)\n",
        "    while x != 0:\n",
        "      ans[counter] = str(x%2)\n",
        "      x = floor(x/2)\n",
        "      counter -= 1\n",
        "    ans = flipit(ans)\n",
        "    addone(ans)        \n",
        "  ans = ''.join(ans)\n",
        "  return ans\n"
      ],
      "metadata": {
        "id": "dprb0kzVNnfd"
      },
      "execution_count": null,
      "outputs": []
    },
    {
      "cell_type": "code",
      "source": [
        "twoscomplement(-12)"
      ],
      "metadata": {
        "colab": {
          "base_uri": "https://localhost:8080/",
          "height": 35
        },
        "id": "1o8i-CCVNmyo",
        "outputId": "e777e317-075c-45cd-f585-e12e2371baa4"
      },
      "execution_count": null,
      "outputs": [
        {
          "output_type": "execute_result",
          "data": {
            "text/plain": [
              "'11110100'"
            ],
            "application/vnd.google.colaboratory.intrinsic+json": {
              "type": "string"
            }
          },
          "metadata": {},
          "execution_count": 48
        }
      ]
    },
    {
      "cell_type": "markdown",
      "source": [
        "128,64,32,16,8,4,2,1 -> 0+0+0+0+8+4+0+0 = 12 and all we do is slap a - on there and we get out -12  this -00001100 is our answer cause if we flip 00001100 we get 11110100 the answer above. \n"
      ],
      "metadata": {
        "id": "-abiEE1ZQMfq"
      }
    },
    {
      "cell_type": "markdown",
      "source": [
        "Alright that that all I have for this week lemme know how I did or didnt do."
      ],
      "metadata": {
        "id": "IhX_v0v3RGMN"
      }
    }
  ]
}
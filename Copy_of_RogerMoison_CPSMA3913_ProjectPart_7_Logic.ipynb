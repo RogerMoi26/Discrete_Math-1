{
  "nbformat": 4,
  "nbformat_minor": 0,
  "metadata": {
    "colab": {
      "provenance": [],
      "toc_visible": true,
      "include_colab_link": true
    },
    "kernelspec": {
      "name": "python3",
      "display_name": "Python 3"
    }
  },
  "cells": [
    {
      "cell_type": "markdown",
      "metadata": {
        "id": "view-in-github",
        "colab_type": "text"
      },
      "source": [
        "<a href=\"https://colab.research.google.com/github/RogerMoi26/Discrete_Math-1/blob/master/Copy_of_RogerMoison_CPSMA3913_ProjectPart_7_Logic.ipynb\" target=\"_parent\"><img src=\"https://colab.research.google.com/assets/colab-badge.svg\" alt=\"Open In Colab\"/></a>"
      ]
    },
    {
      "cell_type": "markdown",
      "metadata": {
        "id": "YCJaepmmfKrS"
      },
      "source": [
        "# Project Part # 7: CPSMA 3133 [Dr. Jacob's](https://github.com/nurfnick) Discrete Mathematics \n",
        "\n",
        "## Logic\n",
        "\n",
        "## My family\n",
        "\n",
        "### Roger Moison and 282541\n",
        "\n",
        "\n"
      ]
    },
    {
      "cell_type": "markdown",
      "source": [
        "Everything for part two will be answered throughout part one."
      ],
      "metadata": {
        "id": "whQnaAu-AvmH"
      }
    },
    {
      "cell_type": "markdown",
      "source": [
        "# 1 Creating a truth table"
      ],
      "metadata": {
        "id": "s5CTEmbDAw7d"
      }
    },
    {
      "cell_type": "markdown",
      "source": [
        "Now for the fun part of Logic I will create so propostions about my family."
      ],
      "metadata": {
        "id": "G10j7SlUC-WL"
      }
    },
    {
      "cell_type": "markdown",
      "metadata": {
        "id": "Xs_Pvtua1Nnt"
      },
      "source": [
        "## (a) The three propositions"
      ]
    },
    {
      "cell_type": "code",
      "source": [
        "WillHaveABabyBoyNext = True\n",
        "WillHaveABabyGirlNext = False\n",
        "WillHaveTwinsNext = True"
      ],
      "metadata": {
        "id": "foE6QbWtBsSX"
      },
      "execution_count": 2,
      "outputs": []
    },
    {
      "cell_type": "markdown",
      "source": [
        "Needless to say I am a little bias with this as I want a baby boy and we have already had twins before but we miscarried so the potential for having twins again is pretty good as I am a twin myself."
      ],
      "metadata": {
        "id": "8hL2bIq7Dtde"
      }
    },
    {
      "cell_type": "markdown",
      "source": [
        "#(b) Compute the truth of the statement r ∧ p, r ∨ ¬q and r ⇒ p."
      ],
      "metadata": {
        "id": "kUB-J7CTAqte"
      }
    },
    {
      "cell_type": "markdown",
      "source": [
        "$$WillHaveTwinsNext∧WillHaveABabyBoyNext$$"
      ],
      "metadata": {
        "id": "eiVTuoUUEcuq"
      }
    },
    {
      "cell_type": "code",
      "source": [
        "(WillHaveABabyGirlNext) and (WillHaveABabyBoyNext)"
      ],
      "metadata": {
        "colab": {
          "base_uri": "https://localhost:8080/"
        },
        "id": "p9dkp9l2EvDQ",
        "outputId": "fd8f90ea-4e79-44aa-8e7d-bc85b40dcad0"
      },
      "execution_count": 10,
      "outputs": [
        {
          "output_type": "execute_result",
          "data": {
            "text/plain": [
              "False"
            ]
          },
          "metadata": {},
          "execution_count": 10
        }
      ]
    },
    {
      "cell_type": "markdown",
      "source": [
        "$$WillHaveTwinsNext ∨ ¬ WillHaveABabyGirlNext$$"
      ],
      "metadata": {
        "id": "TdyI8vezFoQh"
      }
    },
    {
      "cell_type": "code",
      "source": [
        "(WillHaveABabyGirlNext) or not (WillHaveTwinsNext)"
      ],
      "metadata": {
        "colab": {
          "base_uri": "https://localhost:8080/"
        },
        "id": "eXduCcRqFAp2",
        "outputId": "5265bf88-f174-43a0-995f-ed18a61a7342"
      },
      "execution_count": 11,
      "outputs": [
        {
          "output_type": "execute_result",
          "data": {
            "text/plain": [
              "False"
            ]
          },
          "metadata": {},
          "execution_count": 11
        }
      ]
    },
    {
      "cell_type": "markdown",
      "source": [
        "$$WillHaveTwinsNext ⇒ WillHaveABabyBoyNext$$"
      ],
      "metadata": {
        "id": "ylRIskVoBtGl"
      }
    },
    {
      "cell_type": "code",
      "source": [
        "def implies(WillHaveTwinsNext,WillHaveABabyBoyNext):\n",
        "  return (WillHaveTwinsNext) or WillHaveABabyBoyNext\n",
        "\n",
        "implies(WillHaveTwinsNext,WillHaveABabyBoyNext)"
      ],
      "metadata": {
        "id": "eWyQBKH7Btcs",
        "colab": {
          "base_uri": "https://localhost:8080/"
        },
        "outputId": "5008e35a-6bf5-4d3b-c61b-c7c4a06608a5"
      },
      "execution_count": 12,
      "outputs": [
        {
          "output_type": "execute_result",
          "data": {
            "text/plain": [
              "True"
            ]
          },
          "metadata": {},
          "execution_count": 12
        }
      ]
    },
    {
      "cell_type": "markdown",
      "source": [
        "I think I did that correct... Looks correct."
      ],
      "metadata": {
        "id": "ec-_HLmqDtEg"
      }
    },
    {
      "cell_type": "markdown",
      "source": [
        "# (c) Compute a complete truth table for $$¬ (r ⊕ p) ⇒ (p ∨ q)$$"
      ],
      "metadata": {
        "id": "e6BHIHWEArMw"
      }
    },
    {
      "cell_type": "markdown",
      "source": [
        "Im "
      ],
      "metadata": {
        "id": "efVulnUJEGD6"
      }
    },
    {
      "cell_type": "code",
      "source": [
        "values = [True,False]\n",
        "table = []\n",
        "\n",
        "for r in values:\n",
        "  for p in values:\n",
        "    for q in values: \n",
        "      row =[]\n",
        "      row.append(r)\n",
        "      row.append(p)\n",
        "      row.append(q)\n",
        "      row.append(not(r))\n",
        "      row.append(not(r) or not (p))\n",
        "      row.append(q or p)\n",
        "      row.append(implies(not(r) or not(p),q or p))\n",
        "      table.append(row)\n"
      ],
      "metadata": {
        "id": "mF-X1k3a7RAs"
      },
      "execution_count": 13,
      "outputs": []
    },
    {
      "cell_type": "code",
      "source": [
        "import pandas as pd\n",
        "\n",
        "df = pd.DataFrame(table,columns = ['r','p','q','¬r','¬r V p','p ∨ q','¬(r ⊕ p) ⇒ (p ∨ q)'] )\n",
        "df"
      ],
      "metadata": {
        "id": "tt05Fp8mBuOQ",
        "colab": {
          "base_uri": "https://localhost:8080/",
          "height": 300
        },
        "outputId": "bf50e88d-776c-4be1-b38a-aef4fdb70143"
      },
      "execution_count": 14,
      "outputs": [
        {
          "output_type": "execute_result",
          "data": {
            "text/plain": [
              "       r      p      q     ¬r  ¬r V p  p ∨ q  ¬(r ⊕ p) ⇒ (p ∨ q)\n",
              "0   True   True   True  False   False   True                True\n",
              "1   True   True  False  False   False   True                True\n",
              "2   True  False   True  False    True   True                True\n",
              "3   True  False  False  False    True  False                True\n",
              "4  False   True   True   True    True   True                True\n",
              "5  False   True  False   True    True   True                True\n",
              "6  False  False   True   True    True   True                True\n",
              "7  False  False  False   True    True  False                True"
            ],
            "text/html": [
              "\n",
              "  <div id=\"df-b840b39b-5bb9-4560-a358-4ea35e1b57f0\">\n",
              "    <div class=\"colab-df-container\">\n",
              "      <div>\n",
              "<style scoped>\n",
              "    .dataframe tbody tr th:only-of-type {\n",
              "        vertical-align: middle;\n",
              "    }\n",
              "\n",
              "    .dataframe tbody tr th {\n",
              "        vertical-align: top;\n",
              "    }\n",
              "\n",
              "    .dataframe thead th {\n",
              "        text-align: right;\n",
              "    }\n",
              "</style>\n",
              "<table border=\"1\" class=\"dataframe\">\n",
              "  <thead>\n",
              "    <tr style=\"text-align: right;\">\n",
              "      <th></th>\n",
              "      <th>r</th>\n",
              "      <th>p</th>\n",
              "      <th>q</th>\n",
              "      <th>¬r</th>\n",
              "      <th>¬r V p</th>\n",
              "      <th>p ∨ q</th>\n",
              "      <th>¬(r ⊕ p) ⇒ (p ∨ q)</th>\n",
              "    </tr>\n",
              "  </thead>\n",
              "  <tbody>\n",
              "    <tr>\n",
              "      <th>0</th>\n",
              "      <td>True</td>\n",
              "      <td>True</td>\n",
              "      <td>True</td>\n",
              "      <td>False</td>\n",
              "      <td>False</td>\n",
              "      <td>True</td>\n",
              "      <td>True</td>\n",
              "    </tr>\n",
              "    <tr>\n",
              "      <th>1</th>\n",
              "      <td>True</td>\n",
              "      <td>True</td>\n",
              "      <td>False</td>\n",
              "      <td>False</td>\n",
              "      <td>False</td>\n",
              "      <td>True</td>\n",
              "      <td>True</td>\n",
              "    </tr>\n",
              "    <tr>\n",
              "      <th>2</th>\n",
              "      <td>True</td>\n",
              "      <td>False</td>\n",
              "      <td>True</td>\n",
              "      <td>False</td>\n",
              "      <td>True</td>\n",
              "      <td>True</td>\n",
              "      <td>True</td>\n",
              "    </tr>\n",
              "    <tr>\n",
              "      <th>3</th>\n",
              "      <td>True</td>\n",
              "      <td>False</td>\n",
              "      <td>False</td>\n",
              "      <td>False</td>\n",
              "      <td>True</td>\n",
              "      <td>False</td>\n",
              "      <td>True</td>\n",
              "    </tr>\n",
              "    <tr>\n",
              "      <th>4</th>\n",
              "      <td>False</td>\n",
              "      <td>True</td>\n",
              "      <td>True</td>\n",
              "      <td>True</td>\n",
              "      <td>True</td>\n",
              "      <td>True</td>\n",
              "      <td>True</td>\n",
              "    </tr>\n",
              "    <tr>\n",
              "      <th>5</th>\n",
              "      <td>False</td>\n",
              "      <td>True</td>\n",
              "      <td>False</td>\n",
              "      <td>True</td>\n",
              "      <td>True</td>\n",
              "      <td>True</td>\n",
              "      <td>True</td>\n",
              "    </tr>\n",
              "    <tr>\n",
              "      <th>6</th>\n",
              "      <td>False</td>\n",
              "      <td>False</td>\n",
              "      <td>True</td>\n",
              "      <td>True</td>\n",
              "      <td>True</td>\n",
              "      <td>True</td>\n",
              "      <td>True</td>\n",
              "    </tr>\n",
              "    <tr>\n",
              "      <th>7</th>\n",
              "      <td>False</td>\n",
              "      <td>False</td>\n",
              "      <td>False</td>\n",
              "      <td>True</td>\n",
              "      <td>True</td>\n",
              "      <td>False</td>\n",
              "      <td>True</td>\n",
              "    </tr>\n",
              "  </tbody>\n",
              "</table>\n",
              "</div>\n",
              "      <button class=\"colab-df-convert\" onclick=\"convertToInteractive('df-b840b39b-5bb9-4560-a358-4ea35e1b57f0')\"\n",
              "              title=\"Convert this dataframe to an interactive table.\"\n",
              "              style=\"display:none;\">\n",
              "        \n",
              "  <svg xmlns=\"http://www.w3.org/2000/svg\" height=\"24px\"viewBox=\"0 0 24 24\"\n",
              "       width=\"24px\">\n",
              "    <path d=\"M0 0h24v24H0V0z\" fill=\"none\"/>\n",
              "    <path d=\"M18.56 5.44l.94 2.06.94-2.06 2.06-.94-2.06-.94-.94-2.06-.94 2.06-2.06.94zm-11 1L8.5 8.5l.94-2.06 2.06-.94-2.06-.94L8.5 2.5l-.94 2.06-2.06.94zm10 10l.94 2.06.94-2.06 2.06-.94-2.06-.94-.94-2.06-.94 2.06-2.06.94z\"/><path d=\"M17.41 7.96l-1.37-1.37c-.4-.4-.92-.59-1.43-.59-.52 0-1.04.2-1.43.59L10.3 9.45l-7.72 7.72c-.78.78-.78 2.05 0 2.83L4 21.41c.39.39.9.59 1.41.59.51 0 1.02-.2 1.41-.59l7.78-7.78 2.81-2.81c.8-.78.8-2.07 0-2.86zM5.41 20L4 18.59l7.72-7.72 1.47 1.35L5.41 20z\"/>\n",
              "  </svg>\n",
              "      </button>\n",
              "      \n",
              "  <style>\n",
              "    .colab-df-container {\n",
              "      display:flex;\n",
              "      flex-wrap:wrap;\n",
              "      gap: 12px;\n",
              "    }\n",
              "\n",
              "    .colab-df-convert {\n",
              "      background-color: #E8F0FE;\n",
              "      border: none;\n",
              "      border-radius: 50%;\n",
              "      cursor: pointer;\n",
              "      display: none;\n",
              "      fill: #1967D2;\n",
              "      height: 32px;\n",
              "      padding: 0 0 0 0;\n",
              "      width: 32px;\n",
              "    }\n",
              "\n",
              "    .colab-df-convert:hover {\n",
              "      background-color: #E2EBFA;\n",
              "      box-shadow: 0px 1px 2px rgba(60, 64, 67, 0.3), 0px 1px 3px 1px rgba(60, 64, 67, 0.15);\n",
              "      fill: #174EA6;\n",
              "    }\n",
              "\n",
              "    [theme=dark] .colab-df-convert {\n",
              "      background-color: #3B4455;\n",
              "      fill: #D2E3FC;\n",
              "    }\n",
              "\n",
              "    [theme=dark] .colab-df-convert:hover {\n",
              "      background-color: #434B5C;\n",
              "      box-shadow: 0px 1px 3px 1px rgba(0, 0, 0, 0.15);\n",
              "      filter: drop-shadow(0px 1px 2px rgba(0, 0, 0, 0.3));\n",
              "      fill: #FFFFFF;\n",
              "    }\n",
              "  </style>\n",
              "\n",
              "      <script>\n",
              "        const buttonEl =\n",
              "          document.querySelector('#df-b840b39b-5bb9-4560-a358-4ea35e1b57f0 button.colab-df-convert');\n",
              "        buttonEl.style.display =\n",
              "          google.colab.kernel.accessAllowed ? 'block' : 'none';\n",
              "\n",
              "        async function convertToInteractive(key) {\n",
              "          const element = document.querySelector('#df-b840b39b-5bb9-4560-a358-4ea35e1b57f0');\n",
              "          const dataTable =\n",
              "            await google.colab.kernel.invokeFunction('convertToInteractive',\n",
              "                                                     [key], {});\n",
              "          if (!dataTable) return;\n",
              "\n",
              "          const docLinkHtml = 'Like what you see? Visit the ' +\n",
              "            '<a target=\"_blank\" href=https://colab.research.google.com/notebooks/data_table.ipynb>data table notebook</a>'\n",
              "            + ' to learn more about interactive tables.';\n",
              "          element.innerHTML = '';\n",
              "          dataTable['output_type'] = 'display_data';\n",
              "          await google.colab.output.renderOutput(dataTable, element);\n",
              "          const docLink = document.createElement('div');\n",
              "          docLink.innerHTML = docLinkHtml;\n",
              "          element.appendChild(docLink);\n",
              "        }\n",
              "      </script>\n",
              "    </div>\n",
              "  </div>\n",
              "  "
            ]
          },
          "metadata": {},
          "execution_count": 14
        }
      ]
    },
    {
      "cell_type": "code",
      "source": [
        "print(df.to_markdown(index = False))"
      ],
      "metadata": {
        "colab": {
          "base_uri": "https://localhost:8080/"
        },
        "id": "MVq-wEyt-AzW",
        "outputId": "ccbd2512-824f-4cfa-b6ec-53dbc3248200"
      },
      "execution_count": null,
      "outputs": [
        {
          "output_type": "stream",
          "name": "stdout",
          "text": [
            "|   r |   p |   q |   ¬r |   ¬r V p |   p ∨ q |   ¬(r ⊕ p) ⇒ (p ∨ q) |\n",
            "|----:|----:|----:|-----:|---------:|--------:|---------------------:|\n",
            "|   1 |   1 |   1 |    0 |        0 |       1 |                    1 |\n",
            "|   1 |   1 |   0 |    0 |        0 |       1 |                    1 |\n",
            "|   1 |   0 |   1 |    0 |        1 |       1 |                    1 |\n",
            "|   1 |   0 |   0 |    0 |        1 |       0 |                    1 |\n",
            "|   0 |   1 |   1 |    1 |        1 |       1 |                    1 |\n",
            "|   0 |   1 |   0 |    1 |        1 |       1 |                    1 |\n",
            "|   0 |   0 |   1 |    1 |        1 |       1 |                    1 |\n",
            "|   0 |   0 |   0 |    1 |        1 |       0 |                    1 |\n"
          ]
        }
      ]
    }
  ]
}